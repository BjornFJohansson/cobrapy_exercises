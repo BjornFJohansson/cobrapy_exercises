{
 "cells": [
  {
   "cell_type": "markdown",
   "metadata": {},
   "source": [
    "## Calculating theoretical tri-palmitin yield from glucose using a yeast metabolic model\n",
    "\n",
    "This [Jupyter notebook](https://jupyter.org/) describe the use of a genome scale metabolic model to predict the maximum\n",
    "theoretical yield tripalmitin of a hypothetical yeast strain that is engineered to export this product.\n",
    "\n",
    "The [cobrapy](https://github.com/opencobra/cobrapy) software package was used to perform the calculations. The motivation \n",
    "was to learn how to use cobrapy.\n",
    "\n",
    "During the writing of this notebook I took aprt in this exchange on the [cobrapy google group](https://groups.google.com/forum/#!topic/cobra-pie/-sPHjNsB974). I am grateful for all the useful input I got.\n",
    "\n",
    "## Definition of the objective\n",
    "\n",
    "The objective is optimizing for the production of tripalmitin (C51H98O6 MW 807.32 g/mol) from D-glucose under non-limiting conditions of oxygen.\n",
    "\n",
    "![Tripalmitin](trip.jpg \"The structure of Tripalmitin\")\n",
    "\n",
    "According to [Nelson DL, Cox M. Lehninger Principles of Biochemistry: 7th Int Ed 2017](https://www.macmillanlearning.com/Catalog/product/lehningerprinciplesofbiochemistry-seventhedition-nelson) tri-acyl glycerols are made from Phosphatidic acid (FIGURE 21-17).\n",
    "\n",
    "![FIGURE 21-17](21-17.png \"Biosynthesis of phosphatidic acid\")\n",
    "\n",
    "**FIGURE 21-17** Biosynthesis of phosphatidic acid. A fatty acyl group is\n",
    "activated by formation of the fatty acyl–CoA, then transferred to ester linkage\n",
    "with L -glycerol 3-phosphate, formed in either of the two ways shown.\n",
    "Phosphatidic acid is shown here with the correct stereochemistry ( L ) at C-2 of\n",
    "the glycerol molecule. (The intermediate product with only one esterified fatty\n",
    "acyl group is lysophosphatidic acid.) To conserve space in subsequent figures\n",
    "(and in Fig. 21-14), both fatty acyl groups of glycerophospholipids, and all\n",
    "three acyl groups of triacylglycerols, are shown projecting to the right.\n",
    "\n",
    "\n",
    "Phosphatidic acid is used for tri-acyl glycerol synthesis.\n",
    "\n",
    "\n",
    "![FIGURE 21-18](21-18.png \"Phosphatidic acid in lipid biosynthesis\")\n",
    "\n",
    "**FIGURE 21-18** Phosphatidic acid in lipid biosynthesis. Phosphatidic acid is\n",
    "the precursor of both triacylglycerols and glycerophospholipids. The\n",
    "mechanisms for head-group attachment in phospholipid synthesis are described\n",
    "later in this section.\n",
    "\n",
    "The overall reaction is the following:\n",
    "\n",
    "    Glycerol 3-phosphate + 3 Palmitoyl-CoA + 2 ATP -> tripalmitin + 3 Phosphate + 2 ADP + 3 CoA\n",
    "\n",
    "I will further assume that the reaction will occur in the cytosol.\n",
    "\n",
    "\n",
    "## Metabolic model\n",
    "\n",
    "I will use the [iMM904](http://bigg.ucsd.edu/models/iMM904) model. Many models can be found in the [BiGG](http://bigg.ucsd.edu/) model repository\n",
    "and cobrapy can automatically load these models. The model itself was described by [Mo et al. 2009](https://www.ncbi.nlm.nih.gov/pmc/articles/PMC2679711/) and according to the publication include 904 genes and 1,412 reactions. The BiGG entry for this model lists a higher number of genes and reactions, so the model has apparently been updated.\n",
    "\n",
    "There are other models like the [yeast-GEM](https://github.com/SysBioChalmers/yeast-GEM) that has more genes and reactions."
   ]
  },
  {
   "cell_type": "code",
   "execution_count": 1,
   "metadata": {
    "collapsed": false
   },
   "outputs": [],
   "source": [
    "import cobra"
   ]
  },
  {
   "cell_type": "markdown",
   "metadata": {},
   "source": [
    "I chose to download the model, I opted to the JSON version. There are also other versions available from the BiGG site.\n",
    "The *load_json_model* can be used to read the model from the local JSON file."
   ]
  },
  {
   "cell_type": "code",
   "execution_count": 2,
   "metadata": {},
   "outputs": [],
   "source": [
    "iMM904 = cobra.io.load_json_model(\"iMM904.json\")"
   ]
  },
  {
   "cell_type": "markdown",
   "metadata": {},
   "source": [
    "Since I will modifiy the modle I make a copy so that I have the original if I need it."
   ]
  },
  {
   "cell_type": "code",
   "execution_count": 3,
   "metadata": {},
   "outputs": [],
   "source": [
    "model = iMM904.copy()"
   ]
  },
  {
   "cell_type": "code",
   "execution_count": 4,
   "metadata": {},
   "outputs": [
    {
     "data": {
      "text/html": [
       "\n",
       "        <table>\n",
       "            <tr>\n",
       "                <td><strong>Name</strong></td>\n",
       "                <td>iMM904</td>\n",
       "            </tr><tr>\n",
       "                <td><strong>Memory address</strong></td>\n",
       "                <td>0x07fb8897c10b8</td>\n",
       "            </tr><tr>\n",
       "                <td><strong>Number of metabolites</strong></td>\n",
       "                <td>1226</td>\n",
       "            </tr><tr>\n",
       "                <td><strong>Number of reactions</strong></td>\n",
       "                <td>1577</td>\n",
       "            </tr><tr>\n",
       "                <td><strong>Number of groups</strong></td>\n",
       "                <td>0</td>\n",
       "            </tr><tr>\n",
       "                <td><strong>Objective expression</strong></td>\n",
       "                <td>1.0*BIOMASS_SC5_notrace - 1.0*BIOMASS_SC5_notrace_reverse_93090</td>\n",
       "            </tr><tr>\n",
       "                <td><strong>Compartments</strong></td>\n",
       "                <td>cytosol, mitochondria, extracellular space, peroxisome/glyoxysome, endoplasmic reticulum, vacuole, nucleus, golgi apparatus</td>\n",
       "            </tr>\n",
       "          </table>"
      ],
      "text/plain": [
       "<Model iMM904 at 0x7fb8897c10b8>"
      ]
     },
     "execution_count": 4,
     "metadata": {},
     "output_type": "execute_result"
    }
   ],
   "source": [
    "model"
   ]
  },
  {
   "cell_type": "markdown",
   "metadata": {},
   "source": [
    "The model comes with a set of constraints called *medium*. \n",
    "This can be thought of as contraints posed by the composition of the \n",
    "extracellular medium or by the cultivation regiment.\n",
    "\n",
    "We can see below that external oxygen exchange\n",
    "EX_o2_e is limited to 2.0 while others are set to 999999.\n",
    "\n",
    "I discovered this when I got ethanol production in my initial attempts."
   ]
  },
  {
   "cell_type": "code",
   "execution_count": 5,
   "metadata": {},
   "outputs": [
    {
     "data": {
      "text/plain": [
       "{'EX_fe2_e': 999999.0,\n",
       " 'EX_glc__D_e': 10.0,\n",
       " 'EX_h2o_e': 999999.0,\n",
       " 'EX_h_e': 999999.0,\n",
       " 'EX_k_e': 999999.0,\n",
       " 'EX_na1_e': 999999.0,\n",
       " 'EX_nh4_e': 999999.0,\n",
       " 'EX_o2_e': 2.0,\n",
       " 'EX_pi_e': 999999.0,\n",
       " 'EX_so4_e': 999999.0}"
      ]
     },
     "execution_count": 5,
     "metadata": {},
     "output_type": "execute_result"
    }
   ],
   "source": [
    "model.medium"
   ]
  },
  {
   "cell_type": "markdown",
   "metadata": {},
   "source": [
    "I found the code below [here](https://cobrapy.readthedocs.io/en/latest/media.html) used to\n",
    "change the medium. \n",
    "\n",
    "The code seem a bit convoluted, but seetting it directly does not work."
   ]
  },
  {
   "cell_type": "code",
   "execution_count": 6,
   "metadata": {},
   "outputs": [
    {
     "data": {
      "text/plain": [
       "{'EX_fe2_e': 999999.0,\n",
       " 'EX_glc__D_e': 10.0,\n",
       " 'EX_h2o_e': 999999.0,\n",
       " 'EX_h_e': 999999.0,\n",
       " 'EX_k_e': 999999.0,\n",
       " 'EX_na1_e': 999999.0,\n",
       " 'EX_nh4_e': 999999.0,\n",
       " 'EX_o2_e': 999999.0,\n",
       " 'EX_pi_e': 999999.0,\n",
       " 'EX_so4_e': 999999.0}"
      ]
     },
     "execution_count": 6,
     "metadata": {},
     "output_type": "execute_result"
    }
   ],
   "source": [
    "medium = model.medium\n",
    "medium[\"EX_o2_e\"] = 999999.0\n",
    "model.medium = medium\n",
    "model.medium"
   ]
  },
  {
   "cell_type": "markdown",
   "metadata": {},
   "source": [
    "The raction has the following metabolites:\n",
    "\n",
    "- Glycerol 3-phosphate\n",
    "- Palmitoyl-CoA\n",
    "- ATP \n",
    "- tripalmitin\n",
    "- Phosphate\n",
    "- CoA\n",
    "\n",
    "I need to identify each metabolite in the model to be able to express the reaction.\n",
    "I will collect them in the *metabolites* list"
   ]
  },
  {
   "cell_type": "code",
   "execution_count": 7,
   "metadata": {},
   "outputs": [],
   "source": [
    "metabolites = []"
   ]
  },
  {
   "cell_type": "markdown",
   "metadata": {},
   "source": [
    "Metabolites are available in the *model.metabolites* property. This is a special data structure called DictList.\n",
    "This behaves essentially as a list from the users point of view."
   ]
  },
  {
   "cell_type": "code",
   "execution_count": 8,
   "metadata": {},
   "outputs": [
    {
     "data": {
      "text/plain": [
       "cobra.core.dictlist.DictList"
      ]
     },
     "execution_count": 8,
     "metadata": {},
     "output_type": "execute_result"
    }
   ],
   "source": [
    "type(model.metabolites)"
   ]
  },
  {
   "cell_type": "markdown",
   "metadata": {},
   "source": [
    "I can search for metabolites by name using the **query** method."
   ]
  },
  {
   "cell_type": "code",
   "execution_count": 9,
   "metadata": {},
   "outputs": [
    {
     "name": "stdout",
     "output_type": "stream",
     "text": [
      "glyc3p_c\n",
      "glyc3p_m\n"
     ]
    }
   ],
   "source": [
    "for m in model.metabolites.query(\"Glycerol 3-phosphate\", attribute='name'):\n",
    "    print(m)"
   ]
  },
  {
   "cell_type": "code",
   "execution_count": 10,
   "metadata": {},
   "outputs": [
    {
     "data": {
      "text/html": [
       "\n",
       "        <table>\n",
       "            <tr>\n",
       "                <td><strong>Metabolite identifier</strong></td><td>glyc3p_m</td>\n",
       "            </tr><tr>\n",
       "                <td><strong>Name</strong></td><td>Glycerol 3-phosphate</td>\n",
       "            </tr><tr>\n",
       "                <td><strong>Memory address</strong></td>\n",
       "                <td>0x07fb889609b38</td>\n",
       "            </tr><tr>\n",
       "                <td><strong>Formula</strong></td><td>C3H7O6P</td>\n",
       "            </tr><tr>\n",
       "                <td><strong>Compartment</strong></td><td>m</td>\n",
       "            </tr><tr>\n",
       "                <td><strong>In 4 reaction(s)</strong></td><td>\n",
       "                    CDPDGPm_SC, G3PDm, GLYC3Ptm, G3PD1irm</td>\n",
       "            </tr>\n",
       "        </table>"
      ],
      "text/plain": [
       "<Metabolite glyc3p_m at 0x7fb889609b38>"
      ]
     },
     "execution_count": 10,
     "metadata": {},
     "output_type": "execute_result"
    }
   ],
   "source": [
    "model.metabolites.glyc3p_m"
   ]
  },
  {
   "cell_type": "code",
   "execution_count": 11,
   "metadata": {},
   "outputs": [
    {
     "data": {
      "text/plain": [
       "cobra.core.metabolite.Metabolite"
      ]
     },
     "execution_count": 11,
     "metadata": {},
     "output_type": "execute_result"
    }
   ],
   "source": [
    "type(model.metabolites.glyc3p_m)"
   ]
  },
  {
   "cell_type": "markdown",
   "metadata": {},
   "source": [
    "The glyc3p_m metabolite is probably mitochondrial glycerol 3 phosphate."
   ]
  },
  {
   "cell_type": "code",
   "execution_count": 12,
   "metadata": {},
   "outputs": [
    {
     "data": {
      "text/plain": [
       "{'c': 'cytosol',\n",
       " 'm': 'mitochondria',\n",
       " 'e': 'extracellular space',\n",
       " 'x': 'peroxisome/glyoxysome',\n",
       " 'r': 'endoplasmic reticulum',\n",
       " 'v': 'vacuole',\n",
       " 'n': 'nucleus',\n",
       " 'g': 'golgi apparatus'}"
      ]
     },
     "execution_count": 12,
     "metadata": {},
     "output_type": "execute_result"
    }
   ],
   "source": [
    "model.compartments"
   ]
  },
  {
   "cell_type": "code",
   "execution_count": 13,
   "metadata": {},
   "outputs": [
    {
     "data": {
      "text/html": [
       "\n",
       "        <table>\n",
       "            <tr>\n",
       "                <td><strong>Metabolite identifier</strong></td><td>glyc3p_c</td>\n",
       "            </tr><tr>\n",
       "                <td><strong>Name</strong></td><td>Glycerol 3-phosphate</td>\n",
       "            </tr><tr>\n",
       "                <td><strong>Memory address</strong></td>\n",
       "                <td>0x07fb8896094e0</td>\n",
       "            </tr><tr>\n",
       "                <td><strong>Formula</strong></td><td>C3H7O6P</td>\n",
       "            </tr><tr>\n",
       "                <td><strong>Compartment</strong></td><td>c</td>\n",
       "            </tr><tr>\n",
       "                <td><strong>In 6 reaction(s)</strong></td><td>\n",
       "                    G3PD1ir, GPDDA1, G3PT, GLYK, GAT1_SC, GLYC3Ptm</td>\n",
       "            </tr>\n",
       "        </table>"
      ],
      "text/plain": [
       "<Metabolite glyc3p_c at 0x7fb8896094e0>"
      ]
     },
     "execution_count": 13,
     "metadata": {},
     "output_type": "execute_result"
    }
   ],
   "source": [
    "model.metabolites.glyc3p_c"
   ]
  },
  {
   "cell_type": "markdown",
   "metadata": {},
   "source": [
    "The glyc3p_c metabolite is cytosolic Glycerol 3-phosphate. This is the one I want.\n",
    "Add this to the *metabolites* list."
   ]
  },
  {
   "cell_type": "code",
   "execution_count": 14,
   "metadata": {},
   "outputs": [],
   "source": [
    "metabolites.append(model.metabolites.glyc3p_c)"
   ]
  },
  {
   "cell_type": "code",
   "execution_count": 15,
   "metadata": {},
   "outputs": [],
   "source": [
    "m=model.metabolites.glyc3p_c"
   ]
  },
  {
   "cell_type": "markdown",
   "metadata": {},
   "source": [
    "The metabolites have a number of useful properties:"
   ]
  },
  {
   "cell_type": "code",
   "execution_count": 16,
   "metadata": {},
   "outputs": [
    {
     "name": "stdout",
     "output_type": "stream",
     "text": [
      "-2\n",
      "{'C': 3, 'H': 7, 'O': 6, 'P': 1}\n",
      "C3H7O6P\n",
      "170.057841\n",
      "iMM904\n"
     ]
    }
   ],
   "source": [
    "print( model.metabolites.glyc3p_c.charge )\n",
    "print( model.metabolites.glyc3p_c.elements )\n",
    "print( model.metabolites.glyc3p_c.formula )\n",
    "print( model.metabolites.glyc3p_c.formula_weight )\n",
    "print( model.metabolites.glyc3p_c.model )"
   ]
  },
  {
   "cell_type": "code",
   "execution_count": 17,
   "metadata": {},
   "outputs": [
    {
     "name": "stdout",
     "output_type": "stream",
     "text": [
      "pmtcoa_c\n",
      "pmtcoa_x\n"
     ]
    }
   ],
   "source": [
    "for m in model.metabolites.query(\"Palmitoyl-CoA\", attribute='name'):\n",
    "    print(m)"
   ]
  },
  {
   "cell_type": "code",
   "execution_count": 18,
   "metadata": {},
   "outputs": [
    {
     "data": {
      "text/html": [
       "\n",
       "        <table>\n",
       "            <tr>\n",
       "                <td><strong>Metabolite identifier</strong></td><td>pmtcoa_c</td>\n",
       "            </tr><tr>\n",
       "                <td><strong>Name</strong></td><td>Palmitoyl-CoA (n-C16:0CoA)</td>\n",
       "            </tr><tr>\n",
       "                <td><strong>Memory address</strong></td>\n",
       "                <td>0x07fb888c93978</td>\n",
       "            </tr><tr>\n",
       "                <td><strong>Formula</strong></td><td>C37H62N7O17P3S</td>\n",
       "            </tr><tr>\n",
       "                <td><strong>Compartment</strong></td><td>c</td>\n",
       "            </tr><tr>\n",
       "                <td><strong>In 16 reaction(s)</strong></td><td>\n",
       "                    EPISTAT_SC, FACOAL160, GAT2_SC, LPCAT_SC, TRIGS_SC, ZYMSTAT_SC, SERPT, LANOSTAT_SC, AGAT_SC, ERGSTAT_SC, FECOSTAT_SC, FAS160COA, FAS180COA, DESAT16, GAT1_SC, FA160COAabcp</td>\n",
       "            </tr>\n",
       "        </table>"
      ],
      "text/plain": [
       "<Metabolite pmtcoa_c at 0x7fb888c93978>"
      ]
     },
     "execution_count": 18,
     "metadata": {},
     "output_type": "execute_result"
    }
   ],
   "source": [
    "model.metabolites.pmtcoa_c"
   ]
  },
  {
   "cell_type": "markdown",
   "metadata": {},
   "source": [
    "The metabolite pmtcoa_c is cytosolic Palmitoyl-CoA"
   ]
  },
  {
   "cell_type": "code",
   "execution_count": 19,
   "metadata": {},
   "outputs": [],
   "source": [
    "metabolites.append(model.metabolites.pmtcoa_c)"
   ]
  },
  {
   "cell_type": "markdown",
   "metadata": {},
   "source": [
    "Is there perhaps already a reaction involving cytosolic Palmitoyl-CoA? I should find out as this might affect the results.\n",
    "The metabolite has a proterty called *reactions* which list all reactions where the metabolite takes part."
   ]
  },
  {
   "cell_type": "code",
   "execution_count": 20,
   "metadata": {},
   "outputs": [
    {
     "data": {
      "text/plain": [
       "frozenset({<Reaction AGAT_SC at 0x7fb888e3d5f8>,\n",
       "           <Reaction DESAT16 at 0x7fb888e7ab70>,\n",
       "           <Reaction EPISTAT_SC at 0x7fb888e6bc18>,\n",
       "           <Reaction ERGSTAT_SC at 0x7fb888e6bac8>,\n",
       "           <Reaction FA160COAabcp at 0x7fb888eb4be0>,\n",
       "           <Reaction FACOAL160 at 0x7fb888eacc50>,\n",
       "           <Reaction FAS160COA at 0x7fb888ea4f28>,\n",
       "           <Reaction FAS180COA at 0x7fb888ea4358>,\n",
       "           <Reaction FECOSTAT_SC at 0x7fb888e9cef0>,\n",
       "           <Reaction GAT1_SC at 0x7fb888f09f98>,\n",
       "           <Reaction GAT2_SC at 0x7fb888f09c88>,\n",
       "           <Reaction LANOSTAT_SC at 0x7fb8890095f8>,\n",
       "           <Reaction LPCAT_SC at 0x7fb889009518>,\n",
       "           <Reaction SERPT at 0x7fb889016dd8>,\n",
       "           <Reaction TRIGS_SC at 0x7fb889086518>,\n",
       "           <Reaction ZYMSTAT_SC at 0x7fb8890775c0>})"
      ]
     },
     "execution_count": 20,
     "metadata": {},
     "output_type": "execute_result"
    }
   ],
   "source": [
    "model.metabolites.pmtcoa_c.reactions"
   ]
  },
  {
   "cell_type": "code",
   "execution_count": 21,
   "metadata": {},
   "outputs": [
    {
     "data": {
      "text/plain": [
       "frozenset"
      ]
     },
     "execution_count": 21,
     "metadata": {},
     "output_type": "execute_result"
    }
   ],
   "source": [
    "type(model.metabolites.pmtcoa_c.reactions)"
   ]
  },
  {
   "cell_type": "markdown",
   "metadata": {},
   "source": [
    "[Frozenset](https://docs.python.org/3/library/stdtypes.html#frozenset) is a set that cannot be changed after its creation. The elements are *reactions*.\n",
    "Lets have a look at the reaction type."
   ]
  },
  {
   "cell_type": "code",
   "execution_count": 22,
   "metadata": {},
   "outputs": [],
   "source": [
    "for r in model.metabolites.pmtcoa_c.reactions:\n",
    "    break"
   ]
  },
  {
   "cell_type": "code",
   "execution_count": 23,
   "metadata": {},
   "outputs": [
    {
     "data": {
      "text/plain": [
       "cobra.core.reaction.Reaction"
      ]
     },
     "execution_count": 23,
     "metadata": {},
     "output_type": "execute_result"
    }
   ],
   "source": [
    "type(r)"
   ]
  },
  {
   "cell_type": "markdown",
   "metadata": {},
   "source": [
    "The Reaction type has several useful methods and properties as well.\n",
    "The check_mass_balance method is useful for newly defined reactions."
   ]
  },
  {
   "cell_type": "code",
   "execution_count": 24,
   "metadata": {},
   "outputs": [
    {
     "name": "stdout",
     "output_type": "stream",
     "text": [
      "Acyl CoAepisterol acyltransferase  yeast specific\n",
      "{'charge': 2.220446049250313e-16, 'C': 5.551115123125783e-16, 'H': -1.099120794378905e-14, 'N': 6.938893903907228e-17, 'O': 3.3306690738754696e-16, 'P': -1.5265566588595902e-16, 'S': -5.551115123125783e-17}\n",
      "ARE1\n",
      "YCR048W\n",
      "0.01 epist_c + 0.655 hdcoa_c + 0.01 hexccoa_c + 0.27 odecoa_c + 0.02 pmtcoa_c + 0.03 stcoa_c + 0.015 tdcoa_c --> coa_c + 0.01 epistest_SC_c\n"
     ]
    }
   ],
   "source": [
    "print( r.name )\n",
    "print( r.check_mass_balance() )\n",
    "print( r.gene_name_reaction_rule )\n",
    "print( r.gene_reaction_rule )\n",
    "print( r.build_reaction_string() )"
   ]
  },
  {
   "cell_type": "code",
   "execution_count": 25,
   "metadata": {},
   "outputs": [
    {
     "name": "stdout",
     "output_type": "stream",
     "text": [
      "EPISTAT_SC      Acyl CoAepisterol acyltransferase  yeast specific\n",
      "FACOAL160       Fatty acid  CoA ligase  hexadecanoate \n",
      "GAT2_SC         Glycerol 3 phosphate acyltransferase  glycerone phosphate   yeast specific\n",
      "LPCAT_SC        Lyso phosphatidylcholine acyltransferase acyltransferase  yeast specific\n",
      "TRIGS_SC        Triglycerol synthesis\n",
      "ZYMSTAT_SC      Acyl CoAzymosterol acyltransferase  yeast specific\n",
      "SERPT           Serine C palmitoyltransferase\n",
      "LANOSTAT_SC     Acyl CoAlanosterol acyltransferase  yeast specific\n",
      "AGAT_SC         1 Acyl glycerol 3 phosphate acyltransferase  yeast specific\n",
      "ERGSTAT_SC      Acyl CoAergosterol acyltransferase  yeast specific\n",
      "FECOSTAT_SC     Acyl CoAfecosterol acyltransferase  yeast specific\n",
      "FAS160COA       Fatty acyl CoA synthase  n C160CoA \n",
      "FAS180COA       Fatty acyl CoA synthase  n C180CoA \n",
      "DESAT16         Palmitoyl CoA desaturase  n C160CoA   n C161CoA \n",
      "GAT1_SC         Glycerol 3 phosphate acyltransferase  glycerol 3 phosphate   yeast specific\n",
      "FA160COAabcp    Fatty acyl CoA peroxisomal transport via ABC system\n"
     ]
    }
   ],
   "source": [
    "for reaction in model.metabolites.pmtcoa_c.reactions:\n",
    "    print(f\"{reaction.id:<15} {reaction.name}\")"
   ]
  },
  {
   "cell_type": "markdown",
   "metadata": {},
   "source": [
    "There is a reaction called *Triglycerol synthesis* above."
   ]
  },
  {
   "cell_type": "code",
   "execution_count": 26,
   "metadata": {},
   "outputs": [
    {
     "data": {
      "text/html": [
       "\n",
       "        <table>\n",
       "            <tr>\n",
       "                <td><strong>Reaction identifier</strong></td><td>TRIGS_SC</td>\n",
       "            </tr><tr>\n",
       "                <td><strong>Name</strong></td><td>Triglycerol synthesis</td>\n",
       "            </tr><tr>\n",
       "                <td><strong>Memory address</strong></td>\n",
       "                <td>0x07fb889086518</td>\n",
       "            </tr><tr>\n",
       "                <td><strong>Stoichiometry</strong></td>\n",
       "                <td>\n",
       "                    <p style='text-align:right'>0.01 12dgr_SC_c + 0.02 dcacoa_c + 0.06 ddcacoa_c + 0.17 hdcoa_c + 0.09 ocdycacoa_c + 0.24 odecoa_c + 0.27 pmtcoa_c + 0.05 stcoa_c + 0.1 tdcoa_c --> coa_c + 0.01 triglyc_SC_c</p>\n",
       "                    <p style='text-align:right'>0.01 1 2 Diacylglycerol  yeast specific C3540H6644O500 + 0.02 Decanoyl-CoA (n-C10:0CoA) + 0.06 Dodecanoyl-CoA (n-C12:0CoA) + 0.17 Hexadecenoyl-CoA (n-C16:1CoA) + 0.09 Octadecynoyl CoA  n C182CoA  C...</p>\n",
       "                </td>\n",
       "            </tr><tr>\n",
       "                <td><strong>GPR</strong></td><td>YOR245C or YCR048W or YNR019W</td>\n",
       "            </tr><tr>\n",
       "                <td><strong>Lower bound</strong></td><td>0.0</td>\n",
       "            </tr><tr>\n",
       "                <td><strong>Upper bound</strong></td><td>999999.0</td>\n",
       "            </tr>\n",
       "        </table>\n",
       "        "
      ],
      "text/plain": [
       "<Reaction TRIGS_SC at 0x7fb889086518>"
      ]
     },
     "execution_count": 26,
     "metadata": {},
     "output_type": "execute_result"
    }
   ],
   "source": [
    "model.reactions.TRIGS_SC"
   ]
  },
  {
   "cell_type": "code",
   "execution_count": 27,
   "metadata": {},
   "outputs": [
    {
     "data": {
      "text/plain": [
       "'0.01 12dgr_SC_c + 0.02 dcacoa_c + 0.06 ddcacoa_c + 0.17 hdcoa_c + 0.09 ocdycacoa_c + 0.24 odecoa_c + 0.27 pmtcoa_c + 0.05 stcoa_c + 0.1 tdcoa_c --> coa_c + 0.01 triglyc_SC_c'"
      ]
     },
     "execution_count": 27,
     "metadata": {},
     "output_type": "execute_result"
    }
   ],
   "source": [
    "model.reactions.TRIGS_SC.build_reaction_string()"
   ]
  },
  {
   "cell_type": "markdown",
   "metadata": {},
   "source": [
    "This reaction seem to produce a mixture of triacyl glycerol "
   ]
  },
  {
   "cell_type": "code",
   "execution_count": 28,
   "metadata": {},
   "outputs": [
    {
     "name": "stdout",
     "output_type": "stream",
     "text": [
      "12dgr_SC_c      1 2 Diacylglycerol  yeast specific C3540H6644O500\n",
      "coa_c           Coenzyme A\n",
      "dcacoa_c        Decanoyl-CoA (n-C10:0CoA)\n",
      "ddcacoa_c       Dodecanoyl-CoA (n-C12:0CoA)\n",
      "hdcoa_c         Hexadecenoyl-CoA (n-C16:1CoA)\n",
      "ocdycacoa_c     Octadecynoyl CoA  n C182CoA  C39H62N7O17P3S\n",
      "odecoa_c        Octadecenoyl-CoA (n-C18:1CoA)\n",
      "pmtcoa_c        Palmitoyl-CoA (n-C16:0CoA)\n",
      "stcoa_c         Stearoyl-CoA (n-C18:0CoA)\n",
      "tdcoa_c         Tetradecanoyl-CoA (n-C14:0CoA)\n",
      "triglyc_SC_c    Triglyceride  yeast specific C5160H9566O600\n"
     ]
    }
   ],
   "source": [
    "for m in model.reactions.TRIGS_SC.metabolites:\n",
    "     print(f\"{m.id:<15} {m.name}\")"
   ]
  },
  {
   "cell_type": "code",
   "execution_count": 29,
   "metadata": {},
   "outputs": [
    {
     "name": "stdout",
     "output_type": "stream",
     "text": [
      "YOR245C or YCR048W or YNR019W\n"
     ]
    }
   ],
   "source": [
    "print( model.reactions.TRIGS_SC.gene_reaction_rule )"
   ]
  },
  {
   "cell_type": "markdown",
   "metadata": {},
   "source": [
    "This reaction seem to be a general lipid reaction for S. cerevisiae. This is most likely there to provide triacylglycerol for biomass as indicated by the mixture of different fatty acid chain lengths.\n",
    "\n",
    "[YOR245C](https://www.yeastgenome.org/locus/S000005771) is Diacylglycerol acyltransferase which catalyze the last step of triacylglycerol (TAG) formation."
   ]
  },
  {
   "cell_type": "markdown",
   "metadata": {},
   "source": [
    "Maybe the name of cytosolic atp is atp_c by convention?"
   ]
  },
  {
   "cell_type": "code",
   "execution_count": 30,
   "metadata": {},
   "outputs": [
    {
     "data": {
      "text/html": [
       "\n",
       "        <table>\n",
       "            <tr>\n",
       "                <td><strong>Metabolite identifier</strong></td><td>atp_c</td>\n",
       "            </tr><tr>\n",
       "                <td><strong>Name</strong></td><td>ATP C10H12N5O13P3</td>\n",
       "            </tr><tr>\n",
       "                <td><strong>Memory address</strong></td>\n",
       "                <td>0x07fb8896d1f60</td>\n",
       "            </tr><tr>\n",
       "                <td><strong>Formula</strong></td><td>C10H12N5O13P3</td>\n",
       "            </tr><tr>\n",
       "                <td><strong>Compartment</strong></td><td>c</td>\n",
       "            </tr><tr>\n",
       "                <td><strong>In 149 reaction(s)</strong></td><td>\n",
       "                    FTHFCL, TYRTRS, GSNK, ATPPRT, CBPS, PIN4K_SC, THFGLUS, DHFS, RNMK, FACOAL140, RNTR1, PI4P5K_SC, PIN3K_SC, TRPTRS, CTPS1, PI3P4K_SC, CTPS2, PI3P5K_SC, PRPPS, FTHFI, ATPtp_H, PANTS, PROTRS, RBK, FTHF...</td>\n",
       "            </tr>\n",
       "        </table>"
      ],
      "text/plain": [
       "<Metabolite atp_c at 0x7fb8896d1f60>"
      ]
     },
     "execution_count": 30,
     "metadata": {},
     "output_type": "execute_result"
    }
   ],
   "source": [
    "model.metabolites.atp_c"
   ]
  },
  {
   "cell_type": "markdown",
   "metadata": {},
   "source": [
    "Metabolite atp_c is cytosolic ATP"
   ]
  },
  {
   "cell_type": "code",
   "execution_count": 31,
   "metadata": {},
   "outputs": [],
   "source": [
    "metabolites.append(model.metabolites.atp_c)"
   ]
  },
  {
   "cell_type": "code",
   "execution_count": 32,
   "metadata": {},
   "outputs": [
    {
     "data": {
      "text/plain": [
       "[<Metabolite glyc3p_c at 0x7fb8896094e0>,\n",
       " <Metabolite pmtcoa_c at 0x7fb888c93978>,\n",
       " <Metabolite atp_c at 0x7fb8896d1f60>]"
      ]
     },
     "execution_count": 32,
     "metadata": {},
     "output_type": "execute_result"
    }
   ],
   "source": [
    "metabolites"
   ]
  },
  {
   "cell_type": "markdown",
   "metadata": {},
   "source": [
    "Phosphate is produced and there seem to be many kinds of phosphate associated to different compartments."
   ]
  },
  {
   "cell_type": "code",
   "execution_count": 33,
   "metadata": {},
   "outputs": [
    {
     "data": {
      "text/plain": [
       "[<Metabolite pi_c at 0x7fb888c93a58>,\n",
       " <Metabolite pi_e at 0x7fb888c93860>,\n",
       " <Metabolite pi_g at 0x7fb888c93b70>,\n",
       " <Metabolite pi_m at 0x7fb888c93a90>,\n",
       " <Metabolite pi_n at 0x7fb888c93ac8>,\n",
       " <Metabolite pi_r at 0x7fb888c93a20>,\n",
       " <Metabolite pi_v at 0x7fb888c937f0>,\n",
       " <Metabolite pi_x at 0x7fb888c939e8>]"
      ]
     },
     "execution_count": 33,
     "metadata": {},
     "output_type": "execute_result"
    }
   ],
   "source": [
    "model.metabolites.query(\"Phosphate\", attribute='name')"
   ]
  },
  {
   "cell_type": "code",
   "execution_count": 34,
   "metadata": {},
   "outputs": [
    {
     "data": {
      "text/html": [
       "\n",
       "        <table>\n",
       "            <tr>\n",
       "                <td><strong>Metabolite identifier</strong></td><td>pi_c</td>\n",
       "            </tr><tr>\n",
       "                <td><strong>Name</strong></td><td>Phosphate</td>\n",
       "            </tr><tr>\n",
       "                <td><strong>Memory address</strong></td>\n",
       "                <td>0x07fb888c93a58</td>\n",
       "            </tr><tr>\n",
       "                <td><strong>Formula</strong></td><td>HO4P</td>\n",
       "            </tr><tr>\n",
       "                <td><strong>Compartment</strong></td><td>c</td>\n",
       "            </tr><tr>\n",
       "                <td><strong>In 109 reaction(s)</strong></td><td>\n",
       "                    GLNS, FTHFCL, PIt2p, PIt2n, FBP26, CBPS, CHORS, ASAD, THFGLUS, DHFS, LPP_SC, GTPH1, PIt2m, PIt2r, PIt2v, PSP_L, PIt5m, FBP, GLCP, NDP3, MGSA, NADPPPS, CTPS1, AKP1, DBTS, CTPS2, DKMPPD2, MI1PP, PI35...</td>\n",
       "            </tr>\n",
       "        </table>"
      ],
      "text/plain": [
       "<Metabolite pi_c at 0x7fb888c93a58>"
      ]
     },
     "execution_count": 34,
     "metadata": {},
     "output_type": "execute_result"
    }
   ],
   "source": [
    "model.metabolites.pi_c"
   ]
  },
  {
   "cell_type": "markdown",
   "metadata": {},
   "source": [
    "Metabolite pi_c is cytosolic ortophosphate "
   ]
  },
  {
   "cell_type": "code",
   "execution_count": 35,
   "metadata": {},
   "outputs": [],
   "source": [
    "metabolites.append(model.metabolites.pi_c)"
   ]
  },
  {
   "cell_type": "markdown",
   "metadata": {},
   "source": [
    "by convention adp_c should be cytosolic adp"
   ]
  },
  {
   "cell_type": "code",
   "execution_count": 36,
   "metadata": {},
   "outputs": [
    {
     "data": {
      "text/html": [
       "\n",
       "        <table>\n",
       "            <tr>\n",
       "                <td><strong>Metabolite identifier</strong></td><td>adp_c</td>\n",
       "            </tr><tr>\n",
       "                <td><strong>Name</strong></td><td>ADP C10H12N5O10P2</td>\n",
       "            </tr><tr>\n",
       "                <td><strong>Memory address</strong></td>\n",
       "                <td>0x07fb88972a748</td>\n",
       "            </tr><tr>\n",
       "                <td><strong>Formula</strong></td><td>C10H12N5O10P2</td>\n",
       "            </tr><tr>\n",
       "                <td><strong>Compartment</strong></td><td>c</td>\n",
       "            </tr><tr>\n",
       "                <td><strong>In 107 reaction(s)</strong></td><td>\n",
       "                    GLNS, FTHFCL, PAK_SC, GSNK, NDPK8, NDPK9, GALKr, CBPS, NDPK7, PIN4K_SC, NDPK5, THFGLUS, NDPK3, DHFS, NDPK4, RNMK, HMPK1, PI4P5K_SC, PIN3K_SC, NDPK6, CHOLK, CTPS1, PI3P4K_SC, DBTS, CTPS2, PI3P5K_SC,...</td>\n",
       "            </tr>\n",
       "        </table>"
      ],
      "text/plain": [
       "<Metabolite adp_c at 0x7fb88972a748>"
      ]
     },
     "execution_count": 36,
     "metadata": {},
     "output_type": "execute_result"
    }
   ],
   "source": [
    "model.metabolites.adp_c"
   ]
  },
  {
   "cell_type": "markdown",
   "metadata": {},
   "source": [
    "Metabolite adp_c is cytosolic adp."
   ]
  },
  {
   "cell_type": "code",
   "execution_count": 37,
   "metadata": {},
   "outputs": [],
   "source": [
    "metabolites.append(model.metabolites.adp_c)"
   ]
  },
  {
   "cell_type": "markdown",
   "metadata": {},
   "source": [
    "by convention coa_c should be cytosolic coenzyme A (CoA)"
   ]
  },
  {
   "cell_type": "code",
   "execution_count": 38,
   "metadata": {},
   "outputs": [
    {
     "data": {
      "text/html": [
       "\n",
       "        <table>\n",
       "            <tr>\n",
       "                <td><strong>Metabolite identifier</strong></td><td>coa_c</td>\n",
       "            </tr><tr>\n",
       "                <td><strong>Name</strong></td><td>Coenzyme A</td>\n",
       "            </tr><tr>\n",
       "                <td><strong>Memory address</strong></td>\n",
       "                <td>0x07fb8896f6240</td>\n",
       "            </tr><tr>\n",
       "                <td><strong>Formula</strong></td><td>C21H32N7O16P3S</td>\n",
       "            </tr><tr>\n",
       "                <td><strong>Compartment</strong></td><td>c</td>\n",
       "            </tr><tr>\n",
       "                <td><strong>In 64 reaction(s)</strong></td><td>\n",
       "                    ACOATA, FAS80_L, CSNATr, FACOAL140, ACGAM6PS, FAS100COA, GLYAT, FAS120, FAS180COA, DIAT, FAS100, FACOAL181, FAS180, FAS181, LPCAT_SC, TRIGS_SC, OHACT5, ZYMSTAT_SC, AGAT_SC, LANOSTAT_SC, OHACT2, MAL...</td>\n",
       "            </tr>\n",
       "        </table>"
      ],
      "text/plain": [
       "<Metabolite coa_c at 0x7fb8896f6240>"
      ]
     },
     "execution_count": 38,
     "metadata": {},
     "output_type": "execute_result"
    }
   ],
   "source": [
    "model.metabolites.coa_c"
   ]
  },
  {
   "cell_type": "markdown",
   "metadata": {},
   "source": [
    "Metabolite coa_c is cytosolic CoA."
   ]
  },
  {
   "cell_type": "code",
   "execution_count": 39,
   "metadata": {},
   "outputs": [],
   "source": [
    "metabolites.append(model.metabolites.coa_c)"
   ]
  },
  {
   "cell_type": "markdown",
   "metadata": {},
   "source": [
    "The metabolites list is now complete except for tripalmitin. I know that tripalmitin has the elemental formula C51H98O6.\n",
    "I would have expected that the following would be allowed.\n",
    "\n",
    "    model.metabolites.query(\"C51H98O6\", attribute=\"formula\")\n",
    "\n",
    "but this gives me an error like this\n",
    "\n",
    "    ---------------------------------------------------------------------------\n",
    "    TypeError                                 Traceback (most recent call last)\n",
    "    <ipython-input-103-d3022279d4ab> in <module>\n",
    "    ----> 1 model.metabolites.query(\"C51H98O6\", attribute=\"formula\")\n",
    "\n",
    "    ~/anaconda3/envs/cameo/lib/python3.6/site-packages/cobra/core/dictlist.py in query(self, search_function, attribute)\n",
    "        148 \n",
    "        149         results = self.__class__()\n",
    "    --> 150         results._extend_nocheck(matches)\n",
    "        151         return results\n",
    "        152 \n",
    "\n",
    "    ~/anaconda3/envs/cameo/lib/python3.6/site-packages/cobra/core/dictlist.py in _extend_nocheck(self, iterable)\n",
    "        209         \"\"\"\n",
    "        210         current_length = len(self)\n",
    "    --> 211         list.extend(self, iterable)\n",
    "        212         _dict = self._dict\n",
    "        213         if current_length is 0:\n",
    "\n",
    "    ~/anaconda3/envs/cameo/lib/python3.6/site-packages/cobra/core/dictlist.py in <genexpr>(.0)\n",
    "        135                 matches = (\n",
    "        136                     i for i in self if\n",
    "    --> 137                     regex_searcher.findall(select_attribute(i)) != [])\n",
    "        138 \n",
    "        139             else:\n",
    "\n",
    "    TypeError: expected string or bytes-like object\n",
    "\n",
    "The following is allowed, where I search for name or id: "
   ]
  },
  {
   "cell_type": "code",
   "execution_count": 40,
   "metadata": {},
   "outputs": [
    {
     "data": {
      "text/plain": [
       "[<Metabolite h2o_c at 0x7fb8895b8da0>,\n",
       " <Metabolite h2o_e at 0x7fb8895b8e48>,\n",
       " <Metabolite h2o_g at 0x7fb8895b8eb8>,\n",
       " <Metabolite h2o_m at 0x7fb8895b8f28>,\n",
       " <Metabolite h2o_n at 0x7fb8895b8f98>,\n",
       " <Metabolite h2o_r at 0x7fb8895c17f0>,\n",
       " <Metabolite h2o_v at 0x7fb8895c1be0>,\n",
       " <Metabolite h2o_x at 0x7fb8895c1ba8>]"
      ]
     },
     "execution_count": 40,
     "metadata": {},
     "output_type": "execute_result"
    }
   ],
   "source": [
    "model.metabolites.query(\"H2O\", attribute=\"name\")"
   ]
  },
  {
   "cell_type": "code",
   "execution_count": 41,
   "metadata": {},
   "outputs": [
    {
     "data": {
      "text/plain": [
       "[<Metabolite h2o_c at 0x7fb8895b8da0>]"
      ]
     },
     "execution_count": 41,
     "metadata": {},
     "output_type": "execute_result"
    }
   ],
   "source": [
    "model.metabolites.query(\"h2o_c\", attribute=\"id\")"
   ]
  },
  {
   "cell_type": "markdown",
   "metadata": {},
   "source": [
    "However, I can use a list comprehension like this:"
   ]
  },
  {
   "cell_type": "code",
   "execution_count": 47,
   "metadata": {},
   "outputs": [
    {
     "data": {
      "text/plain": [
       "[<Metabolite h2o_c at 0x7fb8895b8da0>,\n",
       " <Metabolite h2o_e at 0x7fb8895b8e48>,\n",
       " <Metabolite h2o_g at 0x7fb8895b8eb8>,\n",
       " <Metabolite h2o_m at 0x7fb8895b8f28>,\n",
       " <Metabolite h2o_n at 0x7fb8895b8f98>,\n",
       " <Metabolite h2o_r at 0x7fb8895c17f0>,\n",
       " <Metabolite h2o_v at 0x7fb8895c1be0>,\n",
       " <Metabolite h2o_x at 0x7fb8895c1ba8>]"
      ]
     },
     "execution_count": 47,
     "metadata": {},
     "output_type": "execute_result"
    }
   ],
   "source": [
    "[m for m in model.metabolites if m.formula==\"H2O\"]"
   ]
  },
  {
   "cell_type": "markdown",
   "metadata": {},
   "source": [
    "There is only one metabolite with C51 in the formula as would be expected of tripalmitin.\n",
    "This is the one linked to biomass."
   ]
  },
  {
   "cell_type": "code",
   "execution_count": 57,
   "metadata": {},
   "outputs": [
    {
     "data": {
      "text/plain": [
       "[<Metabolite triglyc_SC_c at 0x7fb888ce2f98>]"
      ]
     },
     "execution_count": 57,
     "metadata": {},
     "output_type": "execute_result"
    }
   ],
   "source": [
    "[m for m in model.metabolites if m.formula and \"C51\" in m.formula]"
   ]
  },
  {
   "cell_type": "code",
   "execution_count": 58,
   "metadata": {},
   "outputs": [
    {
     "data": {
      "text/plain": [
       "[]"
      ]
     },
     "execution_count": 58,
     "metadata": {},
     "output_type": "execute_result"
    }
   ],
   "source": [
    "[m for m in model.metabolites if m.formula==\"C51H98O6\"]"
   ]
  },
  {
   "cell_type": "code",
   "execution_count": 60,
   "metadata": {},
   "outputs": [
    {
     "data": {
      "text/html": [
       "\n",
       "        <table>\n",
       "            <tr>\n",
       "                <td><strong>Metabolite identifier</strong></td><td>triglyc_SC_c</td>\n",
       "            </tr><tr>\n",
       "                <td><strong>Name</strong></td><td>Triglyceride  yeast specific C5160H9566O600</td>\n",
       "            </tr><tr>\n",
       "                <td><strong>Memory address</strong></td>\n",
       "                <td>0x07fb888ce2f98</td>\n",
       "            </tr><tr>\n",
       "                <td><strong>Formula</strong></td><td>C5160H9566O600</td>\n",
       "            </tr><tr>\n",
       "                <td><strong>Compartment</strong></td><td>c</td>\n",
       "            </tr><tr>\n",
       "                <td><strong>In 4 reaction(s)</strong></td><td>\n",
       "                    BIOMASS_SC5_notrace, TRIGS_SC, PCDAGAT, TAGL_SC</td>\n",
       "            </tr>\n",
       "        </table>"
      ],
      "text/plain": [
       "<Metabolite triglyc_SC_c at 0x7fb888ce2f98>"
      ]
     },
     "execution_count": 60,
     "metadata": {},
     "output_type": "execute_result"
    }
   ],
   "source": [
    "model.metabolites.triglyc_SC_c"
   ]
  },
  {
   "cell_type": "markdown",
   "metadata": {},
   "source": [
    "I have got all metabolites in the *metabolites* list except tripalmitin. \n",
    "I have to create the tripalmitin metabolite as it is not part of the model."
   ]
  },
  {
   "cell_type": "code",
   "execution_count": 61,
   "metadata": {},
   "outputs": [
    {
     "name": "stdout",
     "output_type": "stream",
     "text": [
      "Glycerol 3-phosphate           glyc3p_c\n",
      "Palmitoyl-CoA (n-C16:0CoA)     pmtcoa_c\n",
      "ATP C10H12N5O13P3              atp_c\n",
      "Phosphate                      pi_c\n",
      "ADP C10H12N5O10P2              adp_c\n",
      "Coenzyme A                     coa_c\n"
     ]
    }
   ],
   "source": [
    "for metabolite in metabolites:\n",
    "    print(f\"{metabolite.name:<30} {metabolite}\")"
   ]
  },
  {
   "cell_type": "code",
   "execution_count": 62,
   "metadata": {},
   "outputs": [],
   "source": [
    "from cobra import Metabolite"
   ]
  },
  {
   "cell_type": "code",
   "execution_count": 63,
   "metadata": {},
   "outputs": [],
   "source": [
    "tripmt_c = Metabolite(id=\"tripmt_c\", name = \"Tripalmitin\" , formula=\"C51H98O6\", compartment=\"c\")"
   ]
  },
  {
   "cell_type": "markdown",
   "metadata": {},
   "source": [
    "The name tripmt_c follows the convention roughly. I got the formula from [wikipedia](https://en.wikipedia.org/wiki/Tripalmitin)."
   ]
  },
  {
   "cell_type": "code",
   "execution_count": 64,
   "metadata": {},
   "outputs": [
    {
     "data": {
      "text/html": [
       "\n",
       "        <table>\n",
       "            <tr>\n",
       "                <td><strong>Metabolite identifier</strong></td><td>tripmt_c</td>\n",
       "            </tr><tr>\n",
       "                <td><strong>Name</strong></td><td>Tripalmitin</td>\n",
       "            </tr><tr>\n",
       "                <td><strong>Memory address</strong></td>\n",
       "                <td>0x07fb885ca3be0</td>\n",
       "            </tr><tr>\n",
       "                <td><strong>Formula</strong></td><td>C51H98O6</td>\n",
       "            </tr><tr>\n",
       "                <td><strong>Compartment</strong></td><td>c</td>\n",
       "            </tr><tr>\n",
       "                <td><strong>In 0 reaction(s)</strong></td><td>\n",
       "                    </td>\n",
       "            </tr>\n",
       "        </table>"
      ],
      "text/plain": [
       "<Metabolite tripmt_c at 0x7fb885ca3be0>"
      ]
     },
     "execution_count": 64,
     "metadata": {},
     "output_type": "execute_result"
    }
   ],
   "source": [
    "tripmt_c"
   ]
  },
  {
   "cell_type": "markdown",
   "metadata": {},
   "source": [
    "Now I have to create a new reaction and make it a part of the model."
   ]
  },
  {
   "cell_type": "markdown",
   "metadata": {},
   "source": [
    "This is the reaction as stated before:\n",
    "\n",
    "    Glycerol 3-phosphate + 3 Palmitoyl-CoA + 2 ATP        -> tripalmitin + 2 ADP + 3 CoA + 3 Phosphate    "
   ]
  },
  {
   "cell_type": "code",
   "execution_count": 65,
   "metadata": {},
   "outputs": [],
   "source": [
    "from cobra import Reaction"
   ]
  },
  {
   "cell_type": "markdown",
   "metadata": {},
   "source": [
    "The reaction can be created by a dict where the metabolites are keys and the stoichiometric coefficient\n",
    "are values. A negative value indicate a substrate and a positive one product."
   ]
  },
  {
   "cell_type": "code",
   "execution_count": 77,
   "metadata": {},
   "outputs": [
    {
     "data": {
      "text/plain": [
       "'2.0 atp_c + glyc3p_c + 3.0 pmtcoa_c --> 2.0 adp_c + 3.0 coa_c + 3.0 pi_c + tripmt_c'"
      ]
     },
     "execution_count": 77,
     "metadata": {},
     "output_type": "execute_result"
    }
   ],
   "source": [
    "reaction = Reaction('tripalmitin_synth')\n",
    "reaction.name = 'synthesis of tripalmitin'\n",
    "reaction.add_metabolites({\n",
    "    model.metabolites.glyc3p_c: -1.0,\n",
    "    model.metabolites.pmtcoa_c: -3.0,\n",
    "    model.metabolites.atp_c   : -2.0,\n",
    "    tripmt_c                  :  1.0,\n",
    "    model.metabolites.pi_c    :  3.0,\n",
    "    model.metabolites.adp_c   :  2.0,\n",
    "    model.metabolites.coa_c   :  3.0,\n",
    "})\n",
    "reaction.reaction"
   ]
  },
  {
   "cell_type": "markdown",
   "metadata": {},
   "source": [
    "The reaction comes with a *check_mass_balance* method. "
   ]
  },
  {
   "cell_type": "code",
   "execution_count": 78,
   "metadata": {},
   "outputs": [
    {
     "data": {
      "text/plain": [
       "{'charge': -2.0, 'H': 4.0, 'O': 3.0}"
      ]
     },
     "execution_count": 78,
     "metadata": {},
     "output_type": "execute_result"
    }
   ],
   "source": [
    "reaction.check_mass_balance()"
   ]
  },
  {
   "cell_type": "markdown",
   "metadata": {},
   "source": [
    "Apparently charge, oxygen and hydrogen are not balanced. I probably forgot to add\n",
    "protons and water to the equation.\n",
    "\n",
    "h_c is cytosolic H+"
   ]
  },
  {
   "cell_type": "code",
   "execution_count": 79,
   "metadata": {},
   "outputs": [
    {
     "data": {
      "text/html": [
       "\n",
       "        <table>\n",
       "            <tr>\n",
       "                <td><strong>Metabolite identifier</strong></td><td>h_c</td>\n",
       "            </tr><tr>\n",
       "                <td><strong>Name</strong></td><td>H+</td>\n",
       "            </tr><tr>\n",
       "                <td><strong>Memory address</strong></td>\n",
       "                <td>0x07fb8895cab00</td>\n",
       "            </tr><tr>\n",
       "                <td><strong>Formula</strong></td><td>H</td>\n",
       "            </tr><tr>\n",
       "                <td><strong>Compartment</strong></td><td>c</td>\n",
       "            </tr><tr>\n",
       "                <td><strong>In 539 reaction(s)</strong></td><td>\n",
       "                    HCYSMT, PIt2p, PROt2r, PIt2n, PINOS_SC, SACCD1, PIN4K_SC, PSPHS, PIt2m, PIt2r, RNMK, PIt2v, PLBPC_SC, PI4P5K_SC, PIN3K_SC, HCYSt2p, PI45BPP_SC, PSERS_SC, RIBt2, PI3P4K_SC, PI3P5K_SC, PRPPS, RIBFLVt...</td>\n",
       "            </tr>\n",
       "        </table>"
      ],
      "text/plain": [
       "<Metabolite h_c at 0x7fb8895cab00>"
      ]
     },
     "execution_count": 79,
     "metadata": {},
     "output_type": "execute_result"
    }
   ],
   "source": [
    "model.metabolites.h_c"
   ]
  },
  {
   "cell_type": "markdown",
   "metadata": {},
   "source": [
    "h2o_c is cytosolic water "
   ]
  },
  {
   "cell_type": "code",
   "execution_count": 80,
   "metadata": {},
   "outputs": [
    {
     "data": {
      "text/html": [
       "\n",
       "        <table>\n",
       "            <tr>\n",
       "                <td><strong>Metabolite identifier</strong></td><td>h2o_c</td>\n",
       "            </tr><tr>\n",
       "                <td><strong>Name</strong></td><td>H2O H2O</td>\n",
       "            </tr><tr>\n",
       "                <td><strong>Memory address</strong></td>\n",
       "                <td>0x07fb8895b8da0</td>\n",
       "            </tr><tr>\n",
       "                <td><strong>Formula</strong></td><td>H2O</td>\n",
       "            </tr><tr>\n",
       "                <td><strong>Compartment</strong></td><td>c</td>\n",
       "            </tr><tr>\n",
       "                <td><strong>In 274 reaction(s)</strong></td><td>\n",
       "                    RNTR4, FA180ACPH, FA140ACPHi, FBP26, SACCD1, RNTR3, PSPHS, FAS80_L, FUM, RNDR4, FA181ACPH, FUMAC, CSND, PSP_L, RNTR1, FAS100COA, RNTR2, FAS120, FAS180COA, PLBPC_SC, RNDR3, FA182ACPH, FBP, FAS100, P...</td>\n",
       "            </tr>\n",
       "        </table>"
      ],
      "text/plain": [
       "<Metabolite h2o_c at 0x7fb8895b8da0>"
      ]
     },
     "execution_count": 80,
     "metadata": {},
     "output_type": "execute_result"
    }
   ],
   "source": [
    "model.metabolites.h2o_c"
   ]
  },
  {
   "cell_type": "markdown",
   "metadata": {},
   "source": [
    "I ended up adding water and protons by trial and error until the reaction is balanced for both charge and elements."
   ]
  },
  {
   "cell_type": "code",
   "execution_count": 81,
   "metadata": {},
   "outputs": [
    {
     "data": {
      "text/plain": [
       "'2.0 atp_c + glyc3p_c + 3.0 h2o_c + 3.0 pmtcoa_c --> 2.0 adp_c + 3.0 coa_c + 2.0 h_c + 3.0 pi_c + tripmt_c'"
      ]
     },
     "execution_count": 81,
     "metadata": {},
     "output_type": "execute_result"
    }
   ],
   "source": [
    "reaction = Reaction('tripalmitin_synth')\n",
    "reaction.name = 'synthesis of tripalmitin'\n",
    "reaction.add_metabolites({\n",
    "    model.metabolites.glyc3p_c: -1.0,\n",
    "    model.metabolites.pmtcoa_c: -3.0,\n",
    "    model.metabolites.atp_c   : -2.0,\n",
    "    model.metabolites.h2o_c   : -3.0,\n",
    "    tripmt_c                  :  1.0,\n",
    "    model.metabolites.pi_c    :  3.0,\n",
    "    model.metabolites.adp_c   :  2.0,\n",
    "    model.metabolites.coa_c   :  3.0,\n",
    "    model.metabolites.h_c     :  2.0,\n",
    "})\n",
    "reaction.reaction"
   ]
  },
  {
   "cell_type": "code",
   "execution_count": 82,
   "metadata": {},
   "outputs": [
    {
     "data": {
      "text/plain": [
       "{}"
      ]
     },
     "execution_count": 82,
     "metadata": {},
     "output_type": "execute_result"
    }
   ],
   "source": [
    "reaction.check_mass_balance()"
   ]
  },
  {
   "cell_type": "markdown",
   "metadata": {},
   "source": [
    "An empty dict from check_mass_balance indicate a balanced reaction as showed [here](https://cobrapy.readthedocs.io/en/latest/getting_started.html).\n",
    "\n",
    "I have been adviced to also create a demand reaction for export of the product. This can be thought of as a specific exporter of the \n",
    "product to the extracellular environment."
   ]
  },
  {
   "cell_type": "code",
   "execution_count": 83,
   "metadata": {},
   "outputs": [
    {
     "data": {
      "text/plain": [
       "'tripmt_c --> '"
      ]
     },
     "execution_count": 83,
     "metadata": {},
     "output_type": "execute_result"
    }
   ],
   "source": [
    "export_reaction = Reaction('tripalmitin_exp')\n",
    "export_reaction.name = 'export of tripalmitin'\n",
    "export_reaction.add_metabolites({ tripmt_c : -1.0 })\n",
    "export_reaction.reaction"
   ]
  },
  {
   "cell_type": "markdown",
   "metadata": {},
   "source": [
    "The method add_reaction can be used to add a list of reactions to the model."
   ]
  },
  {
   "cell_type": "code",
   "execution_count": 84,
   "metadata": {},
   "outputs": [],
   "source": [
    "model.add_reactions([reaction, export_reaction])"
   ]
  },
  {
   "cell_type": "markdown",
   "metadata": {},
   "source": [
    "Now we must set an objective for the model."
   ]
  },
  {
   "cell_type": "code",
   "execution_count": 85,
   "metadata": {},
   "outputs": [],
   "source": [
    "model.objective = 'tripalmitin_exp'"
   ]
  },
  {
   "cell_type": "code",
   "execution_count": 86,
   "metadata": {},
   "outputs": [
    {
     "data": {
      "text/plain": [
       "1.0*tripalmitin_exp - 1.0*tripalmitin_exp_reverse_63d5c"
      ]
     },
     "execution_count": 86,
     "metadata": {},
     "output_type": "execute_result"
    }
   ],
   "source": [
    "model.objective.expression"
   ]
  },
  {
   "cell_type": "markdown",
   "metadata": {},
   "source": [
    "There are several built in methods that can be used to evaluate the model and objective.\n",
    "\n",
    "The optimize method and the pfba function use slightly different methods.  "
   ]
  },
  {
   "cell_type": "code",
   "execution_count": 87,
   "metadata": {},
   "outputs": [],
   "source": [
    "fba_solution = model.optimize()\n",
    "pfba_solution = cobra.flux_analysis.pfba(model)"
   ]
  },
  {
   "cell_type": "code",
   "execution_count": 88,
   "metadata": {},
   "outputs": [
    {
     "name": "stdout",
     "output_type": "stream",
     "text": [
      "IN FLUXES       OUT FLUXES    OBJECTIVES\n",
      "--------------  ------------  ----------------------\n",
      "o2_e      12.7  h2o_e  28.1   tripalmitin_exp  0.652\n",
      "glc__D_e  10    co2_e  26.7\n"
     ]
    }
   ],
   "source": [
    "model.summary()"
   ]
  },
  {
   "cell_type": "code",
   "execution_count": 89,
   "metadata": {},
   "outputs": [
    {
     "data": {
      "text/plain": [
       "('optimal', 'optimal')"
      ]
     },
     "execution_count": 89,
     "metadata": {},
     "output_type": "execute_result"
    }
   ],
   "source": [
    "fba_solution.status, pfba_solution.status"
   ]
  },
  {
   "cell_type": "code",
   "execution_count": 90,
   "metadata": {},
   "outputs": [
    {
     "data": {
      "text/plain": [
       "(-10.0, 0.652032972121886)"
      ]
     },
     "execution_count": 90,
     "metadata": {},
     "output_type": "execute_result"
    }
   ],
   "source": [
    "fba_solution.fluxes.EX_glc__D_e, fba_solution.fluxes.tripalmitin_exp"
   ]
  },
  {
   "cell_type": "code",
   "execution_count": 91,
   "metadata": {},
   "outputs": [
    {
     "data": {
      "text/plain": [
       "(-10.0, 0.652032972121886)"
      ]
     },
     "execution_count": 91,
     "metadata": {},
     "output_type": "execute_result"
    }
   ],
   "source": [
    "pfba_solution.fluxes.EX_glc__D_e, pfba_solution.fluxes.tripalmitin_exp"
   ]
  },
  {
   "cell_type": "markdown",
   "metadata": {},
   "source": [
    "The two methods give identical results in this case."
   ]
  },
  {
   "cell_type": "code",
   "execution_count": 93,
   "metadata": {},
   "outputs": [
    {
     "data": {
      "text/plain": [
       "0.06520329721218861"
      ]
     },
     "execution_count": 93,
     "metadata": {},
     "output_type": "execute_result"
    }
   ],
   "source": [
    "molar_yeld = -1. * fba_solution.fluxes.tripalmitin_exp / fba_solution.fluxes.EX_glc__D_e\n",
    "molar_yeld"
   ]
  },
  {
   "cell_type": "code",
   "execution_count": 94,
   "metadata": {},
   "outputs": [
    {
     "data": {
      "text/plain": [
       "(807.3202200000001, 180.15588)"
      ]
     },
     "execution_count": 94,
     "metadata": {},
     "output_type": "execute_result"
    }
   ],
   "source": [
    "mw_glc = model.metabolites.glc__D_c.formula_weight\n",
    "mw_trip = model.metabolites.tripmt_c.formula_weight\n",
    "mw_trip, mw_glc"
   ]
  },
  {
   "cell_type": "code",
   "execution_count": 95,
   "metadata": {},
   "outputs": [
    {
     "name": "stdout",
     "output_type": "stream",
     "text": [
      "0.2921910750294106 g tripalmitin / g glucose\n"
     ]
    }
   ],
   "source": [
    "print( molar_yeld  * (mw_trip/mw_glc), \"g tripalmitin / g glucose\")"
   ]
  },
  {
   "cell_type": "markdown",
   "metadata": {},
   "source": [
    "### Results\n",
    "\n",
    "The results was 0.0652 mol tripalmitin / mol glucose  or 0.292 g/g tripalmitin per g glucose\n",
    "\n",
    "Is this a reasonable yield? The publication [Koivuranta et al. 2018](https://www.frontiersin.org/articles/10.3389/fmicb.2018.01337/full) describe\n",
    "metabolic modelling of Trichosporon oleaginosus (Cryptococcus curvatus) and claim a theoretical yield of 0.289 g/g. This is very close to \n",
    "the results here. A genome scale model for _Yarrowia lipolytica_ was used. The reference for the model in the paper is [Kerkhoven et al. 2016](https://www.ncbi.nlm.nih.gov/pmc/articles/PMC5516929/) and the model was named iYali4.\n",
    "\n",
    "The model had a limit for flux to the oxidative pentose phosphate pathway to 52.0% of glucose uptake among other constrainsts. The conversion of molar yields to g/g was done by assuming the FA composition of acyl-CoA in the model1, giving a molar mass of 826.678 g/mol for TAG.\n",
    "\n",
    "\n",
    "## Manual estimate of yield\n",
    "\n",
    "Below is an attempt of manually calculating yield. \n",
    "Assumptions are Glycerol 3 phosphate from glycolysis (B)\n",
    "NADPH from oxidative pentose phosphate pathway (E). \n",
    "No interconversion between NADH and NADPH. \n",
    "\n",
    "A) 1 Glycerol 3-phosphate + 3 Palmitoyl-CoA + 2 ATP --> 1 tripalmitin\n",
    "\n",
    "B) 1 Glucose + 2 ATP + 2 NADH                       --> 2 Glycerol 3-phosphate\n",
    "\n",
    "C) 8 Acetyl-CoA + 7 ATP + 14 NADPH                  --> 1 palmitate\n",
    "\n",
    "D) 1 Glucose                                        --> 2 ATP + 4 NADH + 2 Acetyl-CoA\n",
    "\n",
    "E) 1 Glucose                                        --> 12 NADPH + 6 CO2\n",
    "\n",
    "#### \n",
    "\n",
    "A)   1 Glycerol 3-phosphate + 3 Palmitoyl-CoA + 2 ATP   --> 1 tripalmitin\n",
    "B)   1 Glucose + 2 ATP + 2 NADH                         --> 2 Glycerol 3-phosphate\n",
    "   0.5 Glucose + 1 ATP + 1 NADH                         --> 1 Glycerol 3-phosphate\n",
    "\n",
    "\n",
    "F) 0.5 Glucose + 3 ATP + 1 NADH + 3 Palmitoyl-CoA       --> 1 tripalmitin \n",
    "\n",
    "----\n",
    "\n",
    "F)  0.5 Glucose + 3 ATP + 1 NADH + 3 Palmitoyl-CoA   --> 1 tripalmitin\n",
    "C)   8 Acetyl-CoA +  7 ATP + 14 NADPH + 1 CoA        --> 1 Palmitoyl-CoA + 8 CoA + 7 ADP + 7 Pi + 14 NADP + 6 H2O\n",
    "    24 Acetyl-CoA + 21 ATP + 42 NADPH + 3 CoA        --> 3 Palmitoyl-CoA + 24 CoA + 21 ADP + 21 Pi + 42 NADP + 18 H2O\n",
    "   \n",
    "G) 0.5 Glucose + 1 NADH + 24 Acetyl-CoA + 24 ATP + 42 NADPH --> 1 tripalmitin\n",
    "\n",
    "----\n",
    "\n",
    "G) 0.5 Glucose + 1 NADH + 24 Acetyl-CoA + 24 ATP + 42 NADPH + 3 CoA   --> 1 tripalmitin\n",
    "\n",
    "D) 1 Glucose + 2 ADP  -> 2 ATP + 4 NADH + 2 Acetyl-CoA\n",
    "\n",
    "  12 Glucose + 24 ADP  -> 24 ATP + 48 NADH + 24 Acetyl-CoA\n",
    "\n",
    "\n",
    "H) 12.5 Glucose + 42 NADPH   --> 1 tripalmitin + 47 NADH\n",
    "\n",
    "----\n",
    "\n",
    "H) 12.5 Glucose + 42 NADPH   --> 1 tripalmitin + 47 NADH\n",
    "E) 1 Glucose                 --> 12 NADPH + 6 CO2\n",
    "   3.5 Glucose               --> 42 NADPH\n",
    "\n",
    "16 Glucose                   --> 1 tripalmitin + 47 NADH\n",
    "\n",
    "1/16 = 0.0625 mol/mol\n",
    "\n",
    "(807.3202200000001 / 180.15588) * 0.0625 = 0.280 g/g\n",
    "\n"
   ]
  },
  {
   "cell_type": "code",
   "execution_count": 96,
   "metadata": {},
   "outputs": [],
   "source": [
    "import escher"
   ]
  },
  {
   "cell_type": "code",
   "execution_count": null,
   "metadata": {},
   "outputs": [],
   "source": [
    "reaction_data = fba_solution.fluxes[fba_solution.fluxes.abs() > 1E-07].to_dict()"
   ]
  },
  {
   "cell_type": "code",
   "execution_count": null,
   "metadata": {},
   "outputs": [],
   "source": [
    "escher.Builder(map_name='iMM904.Central carbon metabolism',\n",
    "               model_name='iMM904',\n",
    "               reaction_data=reaction_data).display_in_notebook()"
   ]
  }
 ],
 "metadata": {
  "anaconda-cloud": {},
  "kernelspec": {
   "display_name": "Python [conda env:cameo]",
   "language": "python",
   "name": "conda-env-cameo-py"
  },
  "language_info": {
   "codemirror_mode": {
    "name": "ipython",
    "version": 3
   },
   "file_extension": ".py",
   "mimetype": "text/x-python",
   "name": "python",
   "nbconvert_exporter": "python",
   "pygments_lexer": "ipython3",
   "version": "3.6.8"
  }
 },
 "nbformat": 4,
 "nbformat_minor": 2
}
